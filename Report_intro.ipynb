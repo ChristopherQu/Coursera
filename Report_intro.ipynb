{
 "cells": [
  {
   "cell_type": "markdown",
   "metadata": {},
   "source": [
    "### Capstone Introduction\n",
    "\n",
    "#### Introduction\n",
    "New York is famous worldwide as the financial center and the \"tourist must go to\" city in the United States. It's where a penthouse at the new Peter Marino-designed condo The Getty, just steps from the High Line, is sold for \\$59 million (\\\\$5,826/ft2).\n",
    "\n",
    "But that is just an outlier example. A quick search can show us the real estate price can vary by a large margin from neighborhoods to neighborhoods. For example, a 2-bedrooms condo in Central Park West, Upper West Side can cost \\$4.91 millions on average; while in Inwood, Upper Manhattan, just 30 minutes aways, it's only \\\\$498 thousands.\n",
    "\n",
    "So what aspects of a neighborhood that can effect the price of real estates to such extend? One hypothesis is that the surrounding venues can be a decision factor.\n",
    "\n",
    "Surely anyone, who has attempted to find an accommodation for rent or buy, has seen advertisements such as: This condo is located near the subway station, malls, supermarkets, dinners, etc. And it's likely that the price will be higher than others with locations not as \"convenient\".\n",
    "\n",
    "Can the venues surrounding an accommodation effect its price? And what kind of venues can effect the most? And by what weight?"
   ]
  },
  {
   "cell_type": "markdown",
   "metadata": {},
   "source": [
    "#### Problem Description\n",
    "This project will try to explore the neighborhoods of New York City to see:\n",
    "1. If the surrounding venues can affect the price of real estate?\n",
    "2. What kind of surrounding venues, and to what extent, can affect the price?\n",
    "3. If we can use the surrounding venue to estimate the value of accommodation over the average price of one area? And to what degree of confidence?\n",
    "\n",
    "The result can be useful for homebuyers, who can roughly estimate the value of a target house over the average.\n",
    "Or to planners, who can decide which venues to place around their product so that the price could be maximized."
   ]
  },
  {
   "cell_type": "markdown",
   "metadata": {},
   "source": [
    "#### Data Collection Process:\n",
    "##### Data to be used\n",
    "The average price will be captured from the CityRealty website.  \n",
    "I am using Geocoder to get the coordinate for each neighborhood.  \n",
    "FourSquare is used to get the surrounding venues.  \n",
    "Count the occurrences of each venue type and attach that information to each neighborhood.  \n",
    "The output will contain the followings:  \n",
    "Each row represents a neighborhood.  \n",
    "Each column will be the count of one type of venue in that neighborhood.  \n",
    "The last column will be the average 2-bedroom condo price of that neighborhood.\n",
    "\n",
    "##### Using data to solve the question:\n",
    "First, the correlation between price and surrounding venues.  \n",
    "Second, if correlated, machine learning (PCA, Regression, PCR) will be used to analyze the data. The output will be a list of venue types that affect the most on price, along with their weight on the result."
   ]
  }
 ],
 "metadata": {
  "kernelspec": {
   "display_name": "Python 3",
   "language": "python",
   "name": "python3"
  },
  "language_info": {
   "codemirror_mode": {
    "name": "ipython",
    "version": 3
   },
   "file_extension": ".py",
   "mimetype": "text/x-python",
   "name": "python",
   "nbconvert_exporter": "python",
   "pygments_lexer": "ipython3",
   "version": "3.6.4"
  }
 },
 "nbformat": 4,
 "nbformat_minor": 2
}
